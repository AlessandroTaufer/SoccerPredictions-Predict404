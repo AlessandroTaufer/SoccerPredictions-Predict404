{
 "cells": [
  {
   "cell_type": "code",
   "execution_count": 1,
   "metadata": {
    "cellView": "both",
    "colab": {},
    "colab_type": "code",
    "id": "LAQZIR4I8JWb"
   },
   "outputs": [],
   "source": [
    "\n",
    "'''\n",
    "#--------------\n",
    "#BOZZA PROGETTO\n",
    "#--------------\n",
    "#Machine Learning (apprendere dai mondiali passati)\n",
    "#ranking fifa\n",
    "#fifa 18 stats\n",
    "#quote snai\n",
    "#partite ultimo anno\n",
    "#allenatore\n",
    "#situazione economica\n",
    "#twitter\n",
    "#--------------\n",
    "#DATI\n",
    "#--------------\n",
    "https://www.kaggle.com/thec03u5/fifa-18-demo-player-dataset#CompleteDataset.csv\n",
    "https://www.kaggle.com/tadhgfitzgerald/fifa-international-soccer-mens-ranking-1993now\n",
    "https://raw.githubusercontent.com/kafagy/fifa-FUT-Data/master/FIFA18.csv\n",
    "---------------\n",
    "TODO\n",
    "---------------\n",
    "debug codice\n",
    "inserire i dati\n",
    "regolare i parametri\n",
    "twitter\n",
    "machine learning\n",
    "'''\n",
    "import csv"
   ]
  },
  {
   "cell_type": "code",
   "execution_count": 2,
   "metadata": {
    "colab": {},
    "colab_type": "code",
    "id": "vxSWiLpj0WW9"
   },
   "outputs": [],
   "source": [
    "class Player():\n",
    "    def __init__(self):\n",
    "        self.stats = {\"overall\" : None, \"pace\" : None, \"shooting\" : None, \"passing\" : None, \"dribbling\" : None, \"defending\" : None, \"phisichal\" : None} #Various stats between 0 and 100   ->\n",
    "        self.name = None  # Player's name\n",
    "        self.team = None  # Player's team\n",
    "        self.age = None  # Player's age\n",
    "        self.nAccidents = None  # Number of the player's accidents in his career\n",
    "        self.position = None  # Position covered by the player\n",
    "        self.regular = None  # It defines if the player is a regular or not\n",
    "        \n",
    "    def to_string(self):\n",
    "        return \"name: \" + str(self.name) + \" overall: \" + str(self.stats.get(\"overall\"))"
   ]
  },
  {
   "cell_type": "code",
   "execution_count": 3,
   "metadata": {
    "colab": {},
    "colab_type": "code",
    "id": "MxZKjZEs4WUv"
   },
   "outputs": [],
   "source": [
    "class Match():  \n",
    "    def __init__(self, team1, team2):\n",
    "    self.teams = [team1, team2]   \n",
    "\n",
    "    def result_calculator(self):  # if a team win return this team else return None\n",
    "    x=None # ranking moltiplicator\n",
    "    y=None # power moltiplicatpor\n",
    "    winProbability=(team1.ranking*x + team1.power*y)-(team2.ranking*x + team2.power*y)\n",
    "    delta=None  # the maximum difference for the draw\n",
    "    if abs(winProbability)<delta:\n",
    "        return None\n",
    "    if winProbability>0:\n",
    "        return team1\n",
    "    else:\n",
    "        return team2        "
   ]
  },
  {
   "cell_type": "code",
   "execution_count": 4,
   "metadata": {
    "colab": {},
    "colab_type": "code",
    "id": "Aeq1Mcre9ouf"
   },
   "outputs": [
    {
     "ename": "IndentationError",
     "evalue": "expected an indented block (<ipython-input-4-5b994241e049>, line 13)",
     "output_type": "error",
     "traceback": [
      "\u001b[0;36m  File \u001b[0;32m\"<ipython-input-4-5b994241e049>\"\u001b[0;36m, line \u001b[0;32m13\u001b[0m\n\u001b[0;31m    class Groups():\u001b[0m\n\u001b[0m                   ^\u001b[0m\n\u001b[0;31mIndentationError\u001b[0m\u001b[0;31m:\u001b[0m expected an indented block\n"
     ]
    }
   ],
   "source": [
    "class WorldCup():\n",
    "    def __init__(self, year, groups):\n",
    "        self.year = year   # Year in which lived the competition\n",
    "        self.groups = groups  # World cup initial groups\n",
    "        self.knockout_phase = [[]for i in range(5)]\n",
    "        \n",
    "    def calculate_match_list(self):  # Calculate the match list for every group\n",
    "        for group in self.groups:\n",
    "            group.match_list()\n",
    "    \n",
    "    def pre_rounds(self): # Initalize the knockout phase\n",
    "        for x in range (0,len(self.groups))\n",
    "            for i in range (0,len(self.group.team)-1):\n",
    "                index=i\n",
    "                for j in range(i, len(self.groups.teams)):\n",
    "                    if (self.groups[x].score[j]<self.groups[x].score[index])\n",
    "                    index=j  \n",
    "\n",
    "                tmp=self.groups[x].team[index]\n",
    "                self.groups[x].team[index] = self.groups[x].team[index]\n",
    "                self.groups[x].team[index]= tmp\n",
    "        \n",
    "        self.knockout_phase[0][0]=self.groups[0].team[0]\n",
    "        self.knockout_phase[0][1]=self.groups[1].team[1]\n",
    "        \n",
    "        self.knockout_phase[0][2]=self.groups[2].team[0]\n",
    "        self.knockout_phase[0][3]=self.groups[3].team[1]\n",
    "        \n",
    "        self.knockout_phase[0][4]=self.groups[1].team[0]\n",
    "        self.knockout_phase[0][5]=self.groups[0].team[1]\n",
    "        \n",
    "        self.knockout_phase[0][6]=self.groups[3].team[0]\n",
    "        self.knockout_phase[0][7]=self.groups[2].team[1]\n",
    "        \n",
    "        self.knockout_phase[0][8]=self.groups[4].team[0]\n",
    "        self.knockout_phase[0][9]=self.groups[5].team[1]\n",
    "        \n",
    "        self.knockout_phase[0][10]=self.groups[6].team[0]\n",
    "        self.knockout_phase[0][11]=self.groups[7].team[1]\n",
    "        \n",
    "        self.knockout_phase[0][12]=self.groups[5].team[0]\n",
    "        self.knockout_phase[0][13]=self.groups[4].team[1]\n",
    "        \n",
    "        self.knockout_phase[0][14]=self.groups[7].team[0]\n",
    "        self.knockout_phase[0][15]=self.groups[6].team[1]\n",
    "        \n",
    "    def rounds(self): # Do the knockout phase\n",
    "        for i in range(len(self.knockout_phase)):\n",
    "            pos = 0\n",
    "            for j in range(0,len(self.knockout_phase[i]), 2):\n",
    "                knockout_phase[i][pos].append(Match(knockout_phase[j], knockout_phase[j+1]).result_calculator())\n",
    "                pos += 1\n",
    "        \n",
    "\n",
    "\n",
    "class Groups():\n",
    "    def __init__(self, teams):\n",
    "        self.teams = teams\n",
    "        self.scores = [0, 0, 0, 0]\n",
    "    \n",
    "    def add_point(self, team, point=1): # Add a points to a specified team\n",
    "        for i in range(len(self.teams)):\n",
    "            if team == self.teams[i]:\n",
    "                self.scores[i] += point\n",
    "                return\n",
    "        \n",
    "    def match_list(self): # Calculates the scores\n",
    "        for i in range(len(self.teams)):\n",
    "            for k in range(len(self.teams) - i - 1):\n",
    "                winner = Match(self.teams[i], self.teams[i+k +1]).result_calculator()\n",
    "                if winner is None:\n",
    "                    self.add_point(self.teams[i])\n",
    "                    self.add_point(self.teams[i+k +1])\n",
    "                else:\n",
    "                    self.add_point(winner, 3)"
   ]
  },
  {
   "cell_type": "code",
   "execution_count": 10,
   "metadata": {
    "colab": {},
    "colab_type": "code",
    "id": "ukG8u4lV-UdZ"
   },
   "outputs": [],
   "source": [
    "class DataLoader():\n",
    "    def __init__(self):\n",
    "        self.players = []\n",
    "        self.columns = []\n",
    "        self.teams = []\n",
    "        \n",
    "    def load_teams(self, filename, players):\n",
    "        self.columns = []\n",
    "        first_line = True\n",
    "        team_name = filename.replace(\".csv\", \"\")\n",
    "        with open(filename) as f:\n",
    "            reader = csv.reader(f, delimiter=',')\n",
    "            for row in reader:\n",
    "                if first_line:\n",
    "                    self.columns = row\n",
    "                    print(\"column: \" + str(row[self.get_column(\"Overall\")]))\n",
    "                    first_line = False\n",
    "                else:\n",
    "                    t = Team()\n",
    "                    t.name = team_name\n",
    "                    player_name = row[self.get_column(\"Player\")]\n",
    "                    club = row[self.get_get_column(\"Club\")]\n",
    "                    t.reserve.append(self.get_player(player_name, players))\n",
    "                    \n",
    "    def get_player(self, name, players):\n",
    "        for player in players:\n",
    "            if player.name == name:\n",
    "                return player\n",
    "                    \n",
    "        \n",
    "    def load_players(self, filename):  # Load player dataset from a csv\n",
    "        self.columns = []\n",
    "        first_line = True\n",
    "        with open(filename) as f:\n",
    "            reader = csv.reader(f, delimiter=',')\n",
    "            for row in reader:\n",
    "                if first_line:\n",
    "                    self.columns = row\n",
    "                    print(\"column: \" + str(row[self.get_column(\"Overall\")]))\n",
    "                    first_line = False\n",
    "                else:\n",
    "                    p = Player()\n",
    "                    p.name = row[self.get_column(\"Name\")]\n",
    "                    p.age = int(row[self.get_column(\"Age\")])\n",
    "                    p.stats[\"overall\"] = int(row[self.get_column(\"Overall\")])\n",
    "                    p.team = row[self.get_column(\"Nationality\")]\n",
    "                    '''\n",
    "                    p.stats[\"pace\"] = (int(row[self.get_column(\"Acceleration\")]) + int(row[self.get_column(\"Sprint speed\")])) / 2\n",
    "                    p.stats[\"shooting\"] = (int(row[self.get_column(\"Positioning\")]) + int(row[self.get_column(\"Finishing\")]) \n",
    "                                           + int(row[self.get_column(\"Long shots\")])) / 3\n",
    "                    p.stats[\"passing\"] = (int(row[self.get_column(\"Crossing\")]) + int(row[self.get_column(\"Vision\")]) +\n",
    "                                          int(row[self.get_column(\"Long passing\")])) / 3\n",
    "                    p.stats[\"dribbling\"] = (int(row[self.get_column(\"Dribbling\")]) + \n",
    "                                            int(row[self.get_column(\"Agility\")]) +\n",
    "                                            int(row[self.get_column(\"Balance\")])) / 3\n",
    "                    p.stats[\"defending\"] = (int(row[self.get_column(\"Sliding tackle\")]) + \n",
    "                                            int(row[self.get_column(\"Standing tackle\")]) +\n",
    "                                            int(row[self.get_column(\"Marking\")])) / 3\n",
    "                    p.stats[\"physical\"] = (int(row[self.get_column(\"Strength\")]) + \n",
    "                                           int(row[self.get_column(\"Aggression\")])) / 2\n",
    "                    '''\n",
    "                    self.players.append(p)\n",
    "        return self.players\n",
    "\n",
    "    def get_column(self, title):  # Find the corresponding column\n",
    "        for i in range(len(self.columns)):\n",
    "            if self.columns[i] == title:\n",
    "                return i\n",
    "        return -1\n"
   ]
  },
  {
   "cell_type": "code",
   "execution_count": 5,
   "metadata": {
    "colab": {},
    "colab_type": "code",
    "id": "JTGvKuLD9ny_"
   },
   "outputs": [],
   "source": [
    "class Team():\n",
    "    def __init__(self):\n",
    "        self.name = None                # Team's name\n",
    "        self.ranking = None             # Team's rank in FIFA\n",
    "        self.regular = []             # Regular players of the team   ->\n",
    "        self.reserve = []             # Reserve players of the team   ->\n",
    "        self.trainer = None             # Team's trainer\n",
    "        self.quotation = None           # Team's probablity of win\n",
    "        self.economicalSituation = None  # Team's money. A richer team can grant more services for his players\n",
    "        self.matchWon = 3               # Matches won by the team\n",
    "        self.matchLose = 2              # Matches lost by the team\n",
    "        self.matchDraw = 1              # Matches finished in a draw\n",
    "        self.regularPower = 0\n",
    "        self.reservePower = 0\n",
    "\n",
    "    def regular_power_calculator(self,):  # It computes regular players' power points. More powerful are the players, more points will have the team\n",
    "        Total=0\n",
    "        for i in self.regular:\n",
    "          Total+=self.regular.stats.get(\"overall\")\n",
    "        self.regularPower=Total/len(self.regular)\n",
    "\n",
    "    def reserve_power_calculator(self, reservePower):  # It computes reserve players' power points. More powerful are the players, more points will have the team\n",
    "        Total = 0\n",
    "        for i in self.reserve:\n",
    "          Total += self.reserve.stats.get(\"overall\")\n",
    "        self.reservePower=Total/len(self.reserve)\n",
    "\n",
    "    def power_calculator(self, power):\n",
    "        x = None  # regular moltiplicator\n",
    "        y = None  # reserve moltiplicator\n",
    "        z = None  # trainer moltiplicator\n",
    "        a = None  # quotation moltiplicator\n",
    "        b = None  # economicalSituation moltiplicator\n",
    "        power = self.regularPower*x + self.reservePower*y + self.trainerPower*z + (1/self.quotation)*a + self.economicalSituation*b\n",
    "\n",
    "    def win_lose_draw_graphics(self):\n",
    "        import matplotlib.mlab as mlab\n",
    "        import matplotlib.pyplot as plt\n",
    "        labels = ['WIN','LOSE','DRAW']\n",
    "        y = [self.matchWon, self.matchLose, self.matchDraw]\n",
    "        esplodi = [0, 0, 0] #explode identifica la distanza tra gli elementi\n",
    "        fig, ax1 = plt.subplots()\n",
    "        ax1.pie(y, labels=labels, explode=esplodi, autopct='%1.1f%%', startangle=90)\n",
    "        ax1.set_title(self.name)\n",
    "        fig.tight_layout()\n",
    "        fig.show()\n",
    "    \n",
    "    def player_ordinator(self); #sort of player based on overoll (selection sort)\n",
    "        for i in range (0,len(self.reserve)-1):\n",
    "            index=i\n",
    "            for j in range(i, len(self.reserve)):\n",
    "                if (self.reserve[j].stats.get('overall')<elf.reserve[index].stats.get('overall'))\n",
    "                index=j  \n",
    "                \n",
    "            tmp=self.reserve[index]\n",
    "            self.reserve[index] = self.reserve[i]\n",
    "            self.reserve[i] = tmp\n",
    "        \n",
    "    def regular_finder(self): #found the best eleven player of a team\n",
    "        for i in range (0,11):\n",
    "            self.regular[i]=self.reserve[i]\n",
    "            for j in range(i,len(self.reserve)):\n",
    "                self.reserve[i]=self.reserve[i+1]\n",
    "        \n",
    "   \n",
    "            \n",
    "        \n"
   ]
  },
  {
   "cell_type": "code",
   "execution_count": 6,
   "metadata": {
    "colab": {},
    "colab_type": "code",
    "id": "1QdJ3h4IDVhF"
   },
   "outputs": [],
   "source": [
    "class Trainer():\n",
    "    def __init__(self):\n",
    "        self.name = None           # Trainer's name\n",
    "        self.matchesWon = None    # Number if matches won\n",
    "        self.matchesPlayed = None # Number of matches played\n",
    "        \n",
    "    def power_calculator(self, power):\n",
    "        power=(self.matchesWon/self.matchesPlayed) * 100"
   ]
  },
  {
   "cell_type": "code",
   "execution_count": 7,
   "metadata": {
    "colab": {},
    "colab_type": "code",
    "id": "TbHPxIWMCqR9"
   },
   "outputs": [
    {
     "data": {
      "text/plain": [
       "'\\ndef loadFiles():\\n    from google.colab import files\\n    uploaded = files.upload()\\n    for fn in uploaded.keys():\\n    print(\\'User uploaded file \"{name}\" with length {length} bytes\\'.format(\\n        name=fn, length=len(uploaded[fn])))\\n    return uploaded\\n'"
      ]
     },
     "execution_count": 7,
     "metadata": {},
     "output_type": "execute_result"
    }
   ],
   "source": [
    "'''\n",
    "def loadFiles():\n",
    "    from google.colab import files\n",
    "    uploaded = files.upload()\n",
    "    for fn in uploaded.keys():\n",
    "    print('User uploaded file \"{name}\" with length {length} bytes'.format(\n",
    "        name=fn, length=len(uploaded[fn])))\n",
    "    return uploaded\n",
    "'''"
   ]
  },
  {
   "cell_type": "code",
   "execution_count": 8,
   "metadata": {
    "colab": {},
    "colab_type": "code",
    "id": "LgDNI-43C24b"
   },
   "outputs": [],
   "source": [
    "def main():\n",
    "    '''\n",
    "    files = loadFiles()\n",
    "    print(\"---------sad-----\")\n",
    "    print(files)\n",
    "    '''\n",
    "    loader = DataLoader()\n",
    "    players = loader.load_players(\"../resources/CompleteDataset.csv\")\n",
    "    print(players[0])\n"
   ]
  },
  {
   "cell_type": "code",
   "execution_count": 11,
   "metadata": {
    "colab": {
     "base_uri": "https://localhost:8080/",
     "height": 254,
     "resources": {
      "http://localhost:8080/nbextensions/google.colab/files.js": {
       "data": "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",
       "headers": [
        [
         "content-type",
         "application/javascript"
        ]
       ],
       "ok": true,
       "status": 200,
       "status_text": "OK"
      }
     }
    },
    "colab_type": "code",
    "id": "oN2G7B50C7Y3",
    "outputId": "7ccdbb5a-9cc0-443d-c7b5-ea682e930673"
   },
   "outputs": [
    {
     "name": "stdout",
     "output_type": "stream",
     "text": [
      "column: Overall\n",
      "<__main__.Player instance at 0x7f99a2f88950>\n"
     ]
    }
   ],
   "source": [
    "main()"
   ]
  },
  {
   "cell_type": "code",
   "execution_count": 20,
   "metadata": {
    "colab": {},
    "colab_type": "code",
    "id": "V4IS9EhxLh4V"
   },
   "outputs": [
    {
     "ename": "IOError",
     "evalue": "[Errno 2] No such file or directory: '../Files/CompleteDataset.csv'",
     "output_type": "error",
     "traceback": [
      "\u001b[0;31m---------------------------------------------------------------------------\u001b[0m",
      "\u001b[0;31mIOError\u001b[0m                                   Traceback (most recent call last)",
      "\u001b[0;32m<ipython-input-20-263240bbee7e>\u001b[0m in \u001b[0;36m<module>\u001b[0;34m()\u001b[0m\n\u001b[0;32m----> 1\u001b[0;31m \u001b[0mmain\u001b[0m\u001b[0;34m(\u001b[0m\u001b[0;34m)\u001b[0m\u001b[0;34m\u001b[0m\u001b[0m\n\u001b[0m",
      "\u001b[0;32m<ipython-input-18-b785c2671dd2>\u001b[0m in \u001b[0;36mmain\u001b[0;34m()\u001b[0m\n\u001b[1;32m      6\u001b[0m     '''\n\u001b[1;32m      7\u001b[0m     \u001b[0mloader\u001b[0m \u001b[0;34m=\u001b[0m \u001b[0mDataLoader\u001b[0m\u001b[0;34m(\u001b[0m\u001b[0;34m)\u001b[0m\u001b[0;34m\u001b[0m\u001b[0m\n\u001b[0;32m----> 8\u001b[0;31m     \u001b[0mplayers\u001b[0m \u001b[0;34m=\u001b[0m \u001b[0mloader\u001b[0m\u001b[0;34m.\u001b[0m\u001b[0mload_players\u001b[0m\u001b[0;34m(\u001b[0m\u001b[0;34m\"../Files/CompleteDataset.csv\"\u001b[0m\u001b[0;34m)\u001b[0m\u001b[0;34m\u001b[0m\u001b[0m\n\u001b[0m\u001b[1;32m      9\u001b[0m     \u001b[0;32mprint\u001b[0m\u001b[0;34m(\u001b[0m\u001b[0mplayers\u001b[0m\u001b[0;34m[\u001b[0m\u001b[0;36m0\u001b[0m\u001b[0;34m]\u001b[0m\u001b[0;34m)\u001b[0m\u001b[0;34m\u001b[0m\u001b[0m\n",
      "\u001b[0;32m<ipython-input-9-ca8dc86f6c43>\u001b[0m in \u001b[0;36mload_players\u001b[0;34m(self, filename)\u001b[0m\n\u001b[1;32m      6\u001b[0m     \u001b[0;32mdef\u001b[0m \u001b[0mload_players\u001b[0m\u001b[0;34m(\u001b[0m\u001b[0mself\u001b[0m\u001b[0;34m,\u001b[0m \u001b[0mfilename\u001b[0m\u001b[0;34m)\u001b[0m\u001b[0;34m:\u001b[0m  \u001b[0;31m# Load player dataset from a csv\u001b[0m\u001b[0;34m\u001b[0m\u001b[0m\n\u001b[1;32m      7\u001b[0m         \u001b[0mfirst_line\u001b[0m \u001b[0;34m=\u001b[0m \u001b[0mTrue\u001b[0m\u001b[0;34m\u001b[0m\u001b[0m\n\u001b[0;32m----> 8\u001b[0;31m         \u001b[0;32mwith\u001b[0m \u001b[0mopen\u001b[0m\u001b[0;34m(\u001b[0m\u001b[0mfilename\u001b[0m\u001b[0;34m)\u001b[0m \u001b[0;32mas\u001b[0m \u001b[0mf\u001b[0m\u001b[0;34m:\u001b[0m\u001b[0;34m\u001b[0m\u001b[0m\n\u001b[0m\u001b[1;32m      9\u001b[0m             \u001b[0mreader\u001b[0m \u001b[0;34m=\u001b[0m \u001b[0mcsv\u001b[0m\u001b[0;34m.\u001b[0m\u001b[0mreader\u001b[0m\u001b[0;34m(\u001b[0m\u001b[0mf\u001b[0m\u001b[0;34m,\u001b[0m \u001b[0mdelimiter\u001b[0m\u001b[0;34m=\u001b[0m\u001b[0;34m','\u001b[0m\u001b[0;34m)\u001b[0m\u001b[0;34m\u001b[0m\u001b[0m\n\u001b[1;32m     10\u001b[0m             \u001b[0;32mfor\u001b[0m \u001b[0mrow\u001b[0m \u001b[0;32min\u001b[0m \u001b[0mreader\u001b[0m\u001b[0;34m:\u001b[0m\u001b[0;34m\u001b[0m\u001b[0m\n",
      "\u001b[0;31mIOError\u001b[0m: [Errno 2] No such file or directory: '../Files/CompleteDataset.csv'"
     ]
    }
   ],
   "source": [
    "main()"
   ]
  },
  {
   "cell_type": "code",
   "execution_count": 21,
   "metadata": {
    "colab": {},
    "colab_type": "code",
    "id": "0Y5Vz9ZXByzS"
   },
   "outputs": [
    {
     "ename": "NameError",
     "evalue": "name 'row' is not defined",
     "output_type": "error",
     "traceback": [
      "\u001b[0;31m---------------------------------------------------------------------------\u001b[0m",
      "\u001b[0;31mNameError\u001b[0m                                 Traceback (most recent call last)",
      "\u001b[0;32m<ipython-input-21-aae90a438fb2>\u001b[0m in \u001b[0;36m<module>\u001b[0;34m()\u001b[0m\n\u001b[1;32m      1\u001b[0m \u001b[0mp\u001b[0m \u001b[0;34m=\u001b[0m \u001b[0mPlayer\u001b[0m\u001b[0;34m(\u001b[0m\u001b[0;34m)\u001b[0m\u001b[0;34m\u001b[0m\u001b[0m\n\u001b[0;32m----> 2\u001b[0;31m \u001b[0mp\u001b[0m\u001b[0;34m.\u001b[0m\u001b[0mname\u001b[0m \u001b[0;34m=\u001b[0m \u001b[0mrow\u001b[0m\u001b[0;34m[\u001b[0m\u001b[0mget_column\u001b[0m\u001b[0;34m(\u001b[0m\u001b[0;34m\"Name\"\u001b[0m\u001b[0;34m)\u001b[0m\u001b[0;34m]\u001b[0m\u001b[0;34m\u001b[0m\u001b[0m\n\u001b[0m\u001b[1;32m      3\u001b[0m \u001b[0mp\u001b[0m\u001b[0;34m.\u001b[0m\u001b[0mage\u001b[0m \u001b[0;34m=\u001b[0m \u001b[0mrow\u001b[0m\u001b[0;34m[\u001b[0m\u001b[0mget_column\u001b[0m\u001b[0;34m(\u001b[0m\u001b[0;34m\"Age\"\u001b[0m\u001b[0;34m)\u001b[0m\u001b[0;34m]\u001b[0m\u001b[0;34m\u001b[0m\u001b[0m\n\u001b[1;32m      4\u001b[0m \u001b[0mp\u001b[0m\u001b[0;34m.\u001b[0m\u001b[0moverall\u001b[0m \u001b[0;34m=\u001b[0m \u001b[0mrow\u001b[0m\u001b[0;34m[\u001b[0m\u001b[0mget_column\u001b[0m\u001b[0;34m(\u001b[0m\u001b[0;34m\"Overall\"\u001b[0m\u001b[0;34m)\u001b[0m\u001b[0;34m]\u001b[0m\u001b[0;34m\u001b[0m\u001b[0m\n\u001b[1;32m      5\u001b[0m \u001b[0mp\u001b[0m\u001b[0;34m.\u001b[0m\u001b[0mteam\u001b[0m \u001b[0;34m=\u001b[0m \u001b[0mrow\u001b[0m\u001b[0;34m[\u001b[0m\u001b[0mget_column\u001b[0m\u001b[0;34m(\u001b[0m\u001b[0;34m\"Nationality\"\u001b[0m\u001b[0;34m)\u001b[0m\u001b[0;34m]\u001b[0m\u001b[0;34m\u001b[0m\u001b[0m\n",
      "\u001b[0;31mNameError\u001b[0m: name 'row' is not defined"
     ]
    }
   ],
   "source": [
    "          p = Player()\n",
    "          p.name = row[get_column(\"Name\")]\n",
    "          p.age = row[get_column(\"Age\")]\n",
    "          p.overall = row[get_column(\"Overall\")]\n",
    "          p.team = row[get_column(\"Nationality\")]\n",
    "          p.pace = row[get_column(\"Acceleration\")] + row[get_column(\"\")]"
   ]
  },
  {
   "cell_type": "code",
   "execution_count": null,
   "metadata": {},
   "outputs": [],
   "source": []
  }
 ],
 "metadata": {
  "colab": {
   "collapsed_sections": [],
   "name": "Errors404.ipynb",
   "provenance": [],
   "version": "0.3.2"
  },
  "kernelspec": {
   "display_name": "Python 3",
   "language": "python",
   "name": "python3"
  },
  "language_info": {
   "codemirror_mode": {
    "name": "ipython",
    "version": 3
   },
   "file_extension": ".py",
   "mimetype": "text/x-python",
   "name": "python",
   "nbconvert_exporter": "python",
   "pygments_lexer": "ipython3",
   "version": "3.6.5"
  }
 },
 "nbformat": 4,
 "nbformat_minor": 1
}
