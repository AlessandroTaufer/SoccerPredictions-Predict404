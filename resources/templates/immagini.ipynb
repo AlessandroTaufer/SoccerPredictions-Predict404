{
 "cells": [
  {
   "cell_type": "code",
   "execution_count": 82,
   "metadata": {},
   "outputs": [],
   "source": [
    "\n",
    "def draw_group(group, output_path=\"../resources/predictions/\", input_path=\"../resources/templates/\"):\n",
    "    from PIL import Image, ImageDraw, ImageFont\n",
    "    group_name = group.name\n",
    "    teams = []\n",
    "    for team in group.teams:\n",
    "        teams.append(team.name.upper())\n",
    "    img = Image.open(input_path + \"gironi.jpg\");\n",
    "    d = ImageDraw.Draw(img)\n",
    "    fntSquad = ImageFont.truetype('/gunship', 15)\n",
    "    fntGroups = ImageFont.truetype('/gunship', 30)\n",
    "\n",
    "    x=30\n",
    "    for i in range (0,4):\n",
    "        d.text((x,293), groupA[i],  font=fntSquad, fill=(255, 255, 255)) \n",
    "        x+=146\n",
    "    d.text((202,96), group_name,  font=fntGroups, fill=(255, 255, 255))\n",
    "    img.save(output_path+ group_name + '.jpg')\n",
    "    img = Image.open(output_path+ group_name + '.jpg')\n",
    "    for i in range(len(teams)):\n",
    "        img2 = Image.open(input_path+\"/flags/\" +teams[i]+ \".png\")\n",
    "        width, height = img2.size\n",
    "        area = (1, 1, width-8,height-3) \n",
    "        img2= img2.crop(area)\n",
    "        img2= img2.resize((width*7,int(height*4.1)))\n",
    "        img.paste(img2, (35 * (i+1) + i * width*7 ,198))\n",
    "    img.save(output_path+ group_name + '.jpg')"
   ]
  },
  {
   "cell_type": "code",
   "execution_count": null,
   "metadata": {},
   "outputs": [],
   "source": []
  },
  {
   "cell_type": "code",
   "execution_count": null,
   "metadata": {},
   "outputs": [],
   "source": []
  },
  {
   "cell_type": "code",
   "execution_count": null,
   "metadata": {},
   "outputs": [],
   "source": []
  },
  {
   "cell_type": "code",
   "execution_count": null,
   "metadata": {},
   "outputs": [],
   "source": []
  },
  {
   "cell_type": "code",
   "execution_count": null,
   "metadata": {},
   "outputs": [],
   "source": []
  },
  {
   "cell_type": "code",
   "execution_count": null,
   "metadata": {},
   "outputs": [],
   "source": []
  },
  {
   "cell_type": "code",
   "execution_count": null,
   "metadata": {},
   "outputs": [],
   "source": []
  },
  {
   "cell_type": "code",
   "execution_count": null,
   "metadata": {},
   "outputs": [],
   "source": []
  },
  {
   "cell_type": "code",
   "execution_count": null,
   "metadata": {},
   "outputs": [],
   "source": []
  },
  {
   "cell_type": "code",
   "execution_count": null,
   "metadata": {},
   "outputs": [],
   "source": []
  },
  {
   "cell_type": "code",
   "execution_count": null,
   "metadata": {},
   "outputs": [],
   "source": []
  },
  {
   "cell_type": "code",
   "execution_count": null,
   "metadata": {},
   "outputs": [],
   "source": []
  },
  {
   "cell_type": "code",
   "execution_count": null,
   "metadata": {},
   "outputs": [],
   "source": []
  },
  {
   "cell_type": "code",
   "execution_count": null,
   "metadata": {},
   "outputs": [],
   "source": []
  },
  {
   "cell_type": "code",
   "execution_count": null,
   "metadata": {},
   "outputs": [],
   "source": []
  },
  {
   "cell_type": "code",
   "execution_count": null,
   "metadata": {},
   "outputs": [],
   "source": []
  },
  {
   "cell_type": "code",
   "execution_count": null,
   "metadata": {},
   "outputs": [],
   "source": []
  },
  {
   "cell_type": "code",
   "execution_count": null,
   "metadata": {},
   "outputs": [],
   "source": []
  },
  {
   "cell_type": "code",
   "execution_count": null,
   "metadata": {},
   "outputs": [],
   "source": []
  },
  {
   "cell_type": "code",
   "execution_count": null,
   "metadata": {},
   "outputs": [],
   "source": []
  }
 ],
 "metadata": {
  "kernelspec": {
   "display_name": "Python 3",
   "language": "python",
   "name": "python3"
  },
  "language_info": {
   "codemirror_mode": {
    "name": "ipython",
    "version": 2
   },
   "file_extension": ".py",
   "mimetype": "text/x-python",
   "name": "python",
   "nbconvert_exporter": "python",
   "pygments_lexer": "ipython2",
   "version": "2.7.15"
  }
 },
 "nbformat": 4,
 "nbformat_minor": 2
}
